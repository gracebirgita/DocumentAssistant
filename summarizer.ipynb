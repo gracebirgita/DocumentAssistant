{
 "cells": [
  {
   "cell_type": "code",
   "execution_count": null,
   "id": "114d48c1",
   "metadata": {},
   "outputs": [
    {
     "ename": "",
     "evalue": "",
     "output_type": "error",
     "traceback": [
      "\u001b[1;31mRunning cells with '.venv (Python 3.11.9)' requires the ipykernel package.\n",
      "\u001b[1;31mInstall 'ipykernel' into the Python environment. \n",
      "\u001b[1;31mCommand: 'c:/Users/graze/Documents/PROJECT/NLP/RAG&summarizer/.venv/Scripts/python.exe -m pip install ipykernel -U --force-reinstall'"
     ]
    }
   ],
   "source": [
    "import nltk\n",
    "import re\n",
    "from nltk.tokenize import sent_tokenize, word_tokenize\n",
    "\n",
    "import string \n",
    "\n",
    "from nltk.corpus import stopwords\n",
    "# from nltk.stem.porter import PorterStemmer\n",
    "from nltk.stem.snowball import SnowballStemmer\n",
    "from nltk.stem.wordnet import WordNetLemmatizer\n",
    "from nltk import pos_tag, ne_chunk\n",
    "from nltk.probability import FreqDist\n",
    "from nltk.cluster.util import cosine_distance\n",
    "\n",
    "from langchain_community.document_loaders import TextLoader\n",
    "from langchain_community.document_loaders import WebBaseLoader\n",
    "import os\n",
    "from dotenv import load_dotenv\n",
    "from openai import OpenAI\n",
    "import numpy as np\n",
    "from sentence_transformers import SentenceTransformer\n",
    "import torch\n",
    "import streamlit as st"
   ]
  },
  {
   "cell_type": "code",
   "execution_count": null,
   "id": "19f1ee2c",
   "metadata": {},
   "outputs": [],
   "source": [
    "stemmer = SnowballStemmer(\"english\")\n",
    "punct = string.punctuation"
   ]
  },
  {
   "cell_type": "code",
   "execution_count": 1,
   "id": "5a423f1e",
   "metadata": {},
   "outputs": [],
   "source": [
    "# text from input user\n",
    "# text = str(input())\n",
    "text = \"Apple Inc. is an American multinational technology company headquartered in Cupertino, California that designs, develops, and sells consumer electronics, computer software, and online services. The company's hardware products include the iPhone smartphone, the iPad tablet computer, the Mac personal computer, the iPod portable media player, the Apple smartwatch, and the Apple TV digital media player.\""
   ]
  },
  {
   "cell_type": "markdown",
   "id": "59988f80",
   "metadata": {},
   "source": [
    "## Preprocess(token, remove stopword, stemming)"
   ]
  },
  {
   "cell_type": "code",
   "execution_count": 4,
   "id": "99a5d7b5",
   "metadata": {},
   "outputs": [],
   "source": [
    "stopword= set(stopwords.words('english'))\n",
    "sentences = sent_tokenize(text)\n",
    "\n",
    "def preprocess_text(sentence):\n",
    "    # tokenization\n",
    "    words = word_tokenize(sentence)\n",
    "    # punctuation character\n",
    "    rm_punct = [word for word in sentence if word not in punct]\n",
    "    # rm stopword\n",
    "    rm_stopword= [ w for w in words if w.lower() not in stopword]\n",
    "\n",
    "    # stemming\n",
    "    stemmed = [stemmer.stem(w) for w in rm_stopword]\n",
    "\n",
    "    return stemmed"
   ]
  },
  {
   "cell_type": "code",
   "execution_count": 5,
   "id": "d9ecfccd",
   "metadata": {},
   "outputs": [
    {
     "name": "stdout",
     "output_type": "stream",
     "text": [
      "['Apple Inc. is an American multinational technology company headquartered in Cupertino, California that designs, develops, and sells consumer electronics, computer software, and online services.', \"The company's hardware products include the iPhone smartphone, the iPad tablet computer, the Mac personal computer, the iPod portable media player, the Apple smartwatch, and the Apple TV digital media player.\"]\n"
     ]
    }
   ],
   "source": [
    "print(sentences)"
   ]
  },
  {
   "cell_type": "code",
   "execution_count": 7,
   "id": "c067aec7",
   "metadata": {},
   "outputs": [
    {
     "name": "stdout",
     "output_type": "stream",
     "text": [
      "preprocessed :  [['appl', 'inc.', 'american', 'multin', 'technolog', 'compani', 'headquart', 'cupertino', ',', 'california', 'design', ',', 'develop', ',', 'sell', 'consum', 'electron', ',', 'comput', 'softwar', ',', 'onlin', 'servic', '.'], ['compani', \"'s\", 'hardwar', 'product', 'includ', 'iphon', 'smartphon', ',', 'ipad', 'tablet', 'comput', ',', 'mac', 'person', 'comput', ',', 'ipod', 'portabl', 'media', 'player', ',', 'appl', 'smartwatch', ',', 'appl', 'tv', 'digit', 'media', 'player', '.']]\n",
      "['appl', 'inc.', 'american', 'multin', 'technolog', 'compani', 'headquart', 'cupertino', ',', 'california', 'design', ',', 'develop', ',', 'sell', 'consum', 'electron', ',', 'comput', 'softwar', ',', 'onlin', 'servic', '.', 'compani', \"'s\", 'hardwar', 'product', 'includ', 'iphon', 'smartphon', ',', 'ipad', 'tablet', 'comput', ',', 'mac', 'person', 'comput', ',', 'ipod', 'portabl', 'media', 'player', ',', 'appl', 'smartwatch', ',', 'appl', 'tv', 'digit', 'media', 'player', '.']\n",
      "<FreqDist with 37 samples and 54 outcomes>\n"
     ]
    }
   ],
   "source": [
    "\n",
    "# preprocess sentence\n",
    "preprocessed_sentences =[preprocess_text(sentence) for sentence in sentences]\n",
    "print(\"preprocessed : \", preprocessed_sentences)\n",
    "# flatten list preprocess\n",
    "flat_preprocessed_word = [word for sentence in preprocessed_sentences for word in sentence]\n",
    "\n",
    "print(flat_preprocessed_word)\n",
    "# word freq\n",
    "word_freq = FreqDist(flat_preprocessed_word)\n",
    "\n",
    "print(word_freq)"
   ]
  },
  {
   "cell_type": "markdown",
   "id": "66d3e135",
   "metadata": {},
   "source": [
    "## Extractive"
   ]
  },
  {
   "cell_type": "code",
   "execution_count": null,
   "id": "e512ba9a",
   "metadata": {},
   "outputs": [
    {
     "name": "stdout",
     "output_type": "stream",
     "text": [
      "{0: 75, 1: 89}\n"
     ]
    }
   ],
   "source": [
    "# abstractive -> adding sentence other than the input text\n",
    "# extractive -> summarize text dari input\n",
    "\n",
    "# score -> how many word appear in sentence\n",
    "def scores_sentences(sentences, word_freq):\n",
    "    sentence_scores={}\n",
    "\n",
    "    for i, sentence in enumerate(sentences):\n",
    "        for word in sentence:\n",
    "            if word in word_freq:\n",
    "                if i in sentence_scores:\n",
    "                    sentence_scores[i] += word_freq[word]\n",
    "                else:\n",
    "                    sentence_scores[i] = word_freq[word]\n",
    "    return sentence_scores\n",
    "\n",
    "sentence_scores = scores_sentences(preprocessed_sentences, word_freq)\n",
    "print(sentence_scores)"
   ]
  },
  {
   "cell_type": "code",
   "execution_count": 14,
   "id": "bc82762f",
   "metadata": {},
   "outputs": [
    {
     "name": "stdout",
     "output_type": "stream",
     "text": [
      "[(1, 89), (0, 75)]\n",
      "[\"The company's hardware products include the iPhone smartphone, the iPad tablet computer, the Mac personal computer, the iPod portable media player, the Apple smartwatch, and the Apple TV digital media player.\", 'Apple Inc. is an American multinational technology company headquartered in Cupertino, California that designs, develops, and sells consumer electronics, computer software, and online services.']\n",
      "SUMMARY\n",
      "The company's hardware products include the iPhone smartphone, the iPad tablet computer, the Mac personal computer, the iPod portable media player, the Apple smartwatch, and the Apple TV digital media player.Apple Inc. is an American multinational technology company headquartered in Cupertino, California that designs, develops, and sells consumer electronics, computer software, and online services.\n"
     ]
    }
   ],
   "source": [
    "# generate summary by select top sentence\n",
    "\n",
    "summary_sentences=[]\n",
    "if sentence_scores:\n",
    "    sorted_scores = sorted(sentence_scores.items(), key=lambda x: x[1], reverse=True)\n",
    "    top_sentences = sorted_scores[:3]\n",
    "    print(top_sentences)\n",
    "    for index, _ in top_sentences:\n",
    "        summary_sentences.append(sentences[index])\n",
    "\n",
    "print(summary_sentences)\n",
    "# join summary\n",
    "summary = ''.join(summary_sentences)\n",
    "\n",
    "print('SUMMARY')\n",
    "print(summary)"
   ]
  },
  {
   "cell_type": "markdown",
   "id": "a95cc8a8",
   "metadata": {},
   "source": [
    "## abstractive"
   ]
  },
  {
   "cell_type": "code",
   "execution_count": 15,
   "id": "ee0a8e59",
   "metadata": {},
   "outputs": [],
   "source": [
    "from transformers import pipeline "
   ]
  },
  {
   "cell_type": "code",
   "execution_count": null,
   "id": "fc37f902",
   "metadata": {},
   "outputs": [
    {
     "name": "stderr",
     "output_type": "stream",
     "text": [
      "Device set to use cpu\n"
     ]
    },
    {
     "name": "stdout",
     "output_type": "stream",
     "text": [
      "Apple Inc. designs, develops, and sells consumer electronics, computer software, and online services. Its hardware products include the iPhone smartphone, the iPad tablet computer, the Mac personal computer, and the iPod portable media player.\n"
     ]
    }
   ],
   "source": [
    "summarizer = pipeline('summarization', model='facebook/bart-large-cnn')\n",
    "\n",
    "summary_abs = summarizer(text, max_length=50,\n",
    "                         min_length=25,\n",
    "                         do_sample=False) # greedy search(token highest probability) - output stabil(sama)\n",
    "result_abs=summary_abs[0]['summary_text']\n",
    "print(result_abs)"
   ]
  },
  {
   "cell_type": "code",
   "execution_count": null,
   "id": "ea59d965",
   "metadata": {},
   "outputs": [
    {
     "name": "stdout",
     "output_type": "stream",
     "text": [
      "Collecting rouge_score\n",
      "  Downloading rouge_score-0.1.2.tar.gz (17 kB)\n",
      "  Installing build dependencies: started\n",
      "  Installing build dependencies: finished with status 'done'\n",
      "  Getting requirements to build wheel: started\n",
      "  Getting requirements to build wheel: finished with status 'done'\n",
      "  Preparing metadata (pyproject.toml): started\n",
      "  Preparing metadata (pyproject.toml): finished with status 'done'\n",
      "Collecting absl-py\n",
      "  Downloading absl_py-2.3.1-py3-none-any.whl.metadata (3.3 kB)\n",
      "Requirement already satisfied: nltk in c:\\users\\graze\\documents\\sem-4\\python\\environments\\nlp\\lib\\site-packages (from rouge_score) (3.8.1)\n",
      "Requirement already satisfied: numpy in c:\\users\\graze\\documents\\sem-4\\python\\environments\\nlp\\lib\\site-packages (from rouge_score) (1.25.2)\n",
      "Requirement already satisfied: six>=1.14.0 in c:\\users\\graze\\documents\\sem-4\\python\\environments\\nlp\\lib\\site-packages (from rouge_score) (1.17.0)\n",
      "Requirement already satisfied: click in c:\\users\\graze\\documents\\sem-4\\python\\environments\\nlp\\lib\\site-packages (from nltk->rouge_score) (8.1.8)\n",
      "Requirement already satisfied: joblib in c:\\users\\graze\\documents\\sem-4\\python\\environments\\nlp\\lib\\site-packages (from nltk->rouge_score) (1.3.2)\n",
      "Requirement already satisfied: regex>=2021.8.3 in c:\\users\\graze\\documents\\sem-4\\python\\environments\\nlp\\lib\\site-packages (from nltk->rouge_score) (2024.11.6)\n",
      "Requirement already satisfied: tqdm in c:\\users\\graze\\documents\\sem-4\\python\\environments\\nlp\\lib\\site-packages (from nltk->rouge_score) (4.67.1)\n",
      "Requirement already satisfied: colorama in c:\\users\\graze\\documents\\sem-4\\python\\environments\\nlp\\lib\\site-packages (from click->nltk->rouge_score) (0.4.6)\n",
      "Downloading absl_py-2.3.1-py3-none-any.whl (135 kB)\n",
      "Building wheels for collected packages: rouge_score\n",
      "  Building wheel for rouge_score (pyproject.toml): started\n",
      "  Building wheel for rouge_score (pyproject.toml): finished with status 'done'\n",
      "  Created wheel for rouge_score: filename=rouge_score-0.1.2-py3-none-any.whl size=25027 sha256=1223eea1451be04417ed2316c2540bedcaaf046724291dced91a6e9a1baf28b9\n",
      "  Stored in directory: c:\\users\\graze\\appdata\\local\\pip\\cache\\wheels\\1e\\19\\43\\8a442dc83660ca25e163e1bd1f89919284ab0d0c1475475148\n",
      "Successfully built rouge_score\n",
      "Installing collected packages: absl-py, rouge_score\n",
      "Successfully installed absl-py-2.3.1 rouge_score-0.1.2\n",
      "Note: you may need to restart the kernel to use updated packages.\n"
     ]
    },
    {
     "name": "stderr",
     "output_type": "stream",
     "text": [
      "\n",
      "[notice] A new release of pip is available: 25.0 -> 25.2\n",
      "[notice] To update, run: python.exe -m pip install --upgrade pip\n"
     ]
    }
   ],
   "source": [
    "# %pip install rouge_score absl-py"
   ]
  },
  {
   "cell_type": "code",
   "execution_count": null,
   "id": "7e48189b",
   "metadata": {},
   "outputs": [
    {
     "name": "stdout",
     "output_type": "stream",
     "text": [
      "{'rouge1': 0.7333333333333333, 'rouge2': 0.6590909090909091, 'rougeL': 0.4222222222222223, 'rougeLsum': 0.4222222222222223}\n"
     ]
    }
   ],
   "source": [
    "import evaluate\n",
    "rouge = evaluate.load('rouge')\n",
    "result = rouge.compute(predictions=[result_abs], references=[summary]) # kemiripan dengan extractive 42%\n",
    "print(result)"
   ]
  }
 ],
 "metadata": {
  "kernelspec": {
   "display_name": ".venv",
   "language": "python",
   "name": "python3"
  },
  "language_info": {
   "codemirror_mode": {
    "name": "ipython",
    "version": 3
   },
   "file_extension": ".py",
   "mimetype": "text/x-python",
   "name": "python",
   "nbconvert_exporter": "python",
   "pygments_lexer": "ipython3",
   "version": "3.11.9"
  }
 },
 "nbformat": 4,
 "nbformat_minor": 5
}
